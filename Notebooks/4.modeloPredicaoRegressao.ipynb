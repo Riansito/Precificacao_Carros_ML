{
 "cells": [
  {
   "cell_type": "markdown",
   "id": "43c73084",
   "metadata": {},
   "source": [
    "\n",
    "\n",
    "## **Modelo de Regressão para Precificação de Veículos**\n",
    "\n",
    "Nesta etapa, vamos desenvolver um **modelo de regressão** para estimar o **preço dos veículos** com base nas características coletadas e transformadas ao longo do projeto, incluindo os insights obtidos na etapa de **clustering**. O objetivo é construir uma ferramenta que permita **prever preços de forma precisa**, considerando tanto atributos numéricos quanto categóricos dos carros.\n",
    "\n",
    "A análise de regressão nos permitirá:\n",
    "\n",
    "1. **Quantificar a influência de cada variável** sobre o preço do veículo, identificando fatores determinantes como idade, quilometragem, avaliações de motoristas e características do carro (tipo de transmissão, drivetrain, fabricante, etc.).\n",
    "2. **Gerar previsões confiáveis** para novos veículos, facilitando decisões de compra, venda ou avaliação de mercado.\n",
    "3. **Integrar informações de clusters** para entender melhor segmentos de carros e melhorar a acurácia do modelo, permitindo ajustes de preço mais realistas para cada grupo.\n",
    "\n",
    "Antes de treinar o modelo, realizamos **pré-processamento dos dados**:\n",
    "\n",
    "* Seleção das variáveis mais relevantes com base em análises exploratórias e clustering.\n",
    "* Normalização e padronização das variáveis numéricas para evitar que escalas diferentes distorçam o modelo.\n",
    "* Codificação adequada das variáveis categóricas (One-Hot Encoding ou técnicas similares).\n",
    "* Tratamento de valores faltantes.\n",
    "\n",
    "Para o desenvolvimento do modelo, consideraremos:\n",
    "\n",
    "* **Modelos de regressão linear e regularizada (Ridge, Lasso)** para capturar relações lineares e controlar overfitting.\n",
    "* **Modelos de ensemble, como Gradient Boosting ou Random Forest**, que podem capturar interações complexas entre as variáveis e fornecer previsões mais robustas.\n",
    "* **Validação cruzada e métricas de desempenho**, como RMSE, MAE e R², para avaliar a precisão e generalização do modelo.\n",
    "\n",
    "Ao final desta etapa, teremos um **modelo de precificação confiável**, capaz de estimar o valor de um veículo com base em seus atributos, proporcionando **insights acionáveis para vendas, avaliação de mercado e tomada de decisões estratégicas**.\n",
    "\n",
    "\n"
   ]
  },
  {
   "cell_type": "code",
   "execution_count": 31,
   "id": "a0d2c0d4",
   "metadata": {},
   "outputs": [],
   "source": [
    "#Manipulação dos dados\n",
    "import pandas as pd\n",
    "import numpy as np\n",
    "\n",
    "#Visualização dos dados\n",
    "import matplotlib.pyplot as plt\n",
    "import seaborn as sns\n",
    "\n",
    "\n",
    "#Pre processamento dos dados\n",
    "from sklearn.preprocessing import LabelEncoder, OneHotEncoder, RobustScaler\n",
    "import category_encoders as ce\n",
    "from sklearn.impute import SimpleImputer\n",
    "\n",
    "\n",
    "#Pipeline\n",
    "from sklearn.pipeline import Pipeline\n",
    "from sklearn.compose import ColumnTransformer\n",
    "\n",
    "#Métricas de avaliação do modelo\n",
    "from sklearn.metrics import mean_absolute_error, mean_squared_error, r2_score\n",
    "\n",
    "#Divisão de traino e validação\n",
    "from sklearn.model_selection import train_test_split\n",
    "\n",
    "#Selecionar as melhores features\n",
    "from sklearn.feature_selection import SelectKBest, f_classif,SelectFromModel, f_regression\n",
    "\n",
    "#Modelos a serem testados\n",
    "from sklearn.linear_model import LinearRegression, Ridge, Lasso\n",
    "from sklearn.tree import DecisionTreeRegressor\n",
    "from sklearn.ensemble import GradientBoostingRegressor\n",
    "from xgboost import XGBRegressor\n",
    "from lightgbm import LGBMRegressor\n",
    "\n",
    "#Tunagem dos hiperparâmetros\n",
    "from sklearn.model_selection import RandomizedSearchCV\n",
    "\n",
    "#Validação crusada\n",
    "from sklearn.model_selection import cross_validate, KFold"
   ]
  },
  {
   "cell_type": "code",
   "execution_count": 32,
   "id": "067341b9",
   "metadata": {},
   "outputs": [
    {
     "data": {
      "text/html": [
       "<div>\n",
       "<style scoped>\n",
       "    .dataframe tbody tr th:only-of-type {\n",
       "        vertical-align: middle;\n",
       "    }\n",
       "\n",
       "    .dataframe tbody tr th {\n",
       "        vertical-align: top;\n",
       "    }\n",
       "\n",
       "    .dataframe thead th {\n",
       "        text-align: right;\n",
       "    }\n",
       "</style>\n",
       "<table border=\"1\" class=\"dataframe\">\n",
       "  <thead>\n",
       "    <tr style=\"text-align: right;\">\n",
       "      <th></th>\n",
       "      <th>manufacturer</th>\n",
       "      <th>year</th>\n",
       "      <th>mileage</th>\n",
       "      <th>mpg</th>\n",
       "      <th>accidents_or_damage</th>\n",
       "      <th>one_owner</th>\n",
       "      <th>personal_use_only</th>\n",
       "      <th>driver_rating</th>\n",
       "      <th>driver_reviews_num</th>\n",
       "      <th>price</th>\n",
       "      <th>transmission_simple</th>\n",
       "      <th>color_exterior_simple</th>\n",
       "      <th>color_interior_simple</th>\n",
       "      <th>drivetrain_simple</th>\n",
       "      <th>fuel_type_simple</th>\n",
       "      <th>cluster</th>\n",
       "    </tr>\n",
       "  </thead>\n",
       "  <tbody>\n",
       "    <tr>\n",
       "      <th>561046</th>\n",
       "      <td>Nissan</td>\n",
       "      <td>2022</td>\n",
       "      <td>7963.0</td>\n",
       "      <td>19.5</td>\n",
       "      <td>0.0</td>\n",
       "      <td>1.0</td>\n",
       "      <td>1.0</td>\n",
       "      <td>4.2</td>\n",
       "      <td>19.0</td>\n",
       "      <td>35693.0</td>\n",
       "      <td>Automatic</td>\n",
       "      <td>red</td>\n",
       "      <td>black</td>\n",
       "      <td>4WD</td>\n",
       "      <td>Gasoline</td>\n",
       "      <td>Carros Luxos/Valorizados</td>\n",
       "    </tr>\n",
       "    <tr>\n",
       "      <th>390497</th>\n",
       "      <td>Jeep</td>\n",
       "      <td>2017</td>\n",
       "      <td>65998.0</td>\n",
       "      <td>21.5</td>\n",
       "      <td>0.0</td>\n",
       "      <td>0.0</td>\n",
       "      <td>1.0</td>\n",
       "      <td>4.8</td>\n",
       "      <td>335.0</td>\n",
       "      <td>22999.0</td>\n",
       "      <td>Automatic</td>\n",
       "      <td>white</td>\n",
       "      <td>black</td>\n",
       "      <td>4WD</td>\n",
       "      <td>Gasoline</td>\n",
       "      <td>Carros Custo-Benefício</td>\n",
       "    </tr>\n",
       "    <tr>\n",
       "      <th>13707</th>\n",
       "      <td>Other</td>\n",
       "      <td>2017</td>\n",
       "      <td>50986.0</td>\n",
       "      <td>29.0</td>\n",
       "      <td>0.0</td>\n",
       "      <td>0.0</td>\n",
       "      <td>1.0</td>\n",
       "      <td>4.8</td>\n",
       "      <td>90.0</td>\n",
       "      <td>23900.0</td>\n",
       "      <td>Manual</td>\n",
       "      <td>black</td>\n",
       "      <td>black</td>\n",
       "      <td>FWD</td>\n",
       "      <td>Gasoline</td>\n",
       "      <td>Carros Premium</td>\n",
       "    </tr>\n",
       "    <tr>\n",
       "      <th>576420</th>\n",
       "      <td>Nissan</td>\n",
       "      <td>2018</td>\n",
       "      <td>74244.0</td>\n",
       "      <td>28.5</td>\n",
       "      <td>0.0</td>\n",
       "      <td>0.0</td>\n",
       "      <td>0.0</td>\n",
       "      <td>4.7</td>\n",
       "      <td>417.0</td>\n",
       "      <td>18988.0</td>\n",
       "      <td>Automatic</td>\n",
       "      <td>black</td>\n",
       "      <td>black</td>\n",
       "      <td>AWD</td>\n",
       "      <td>Gasoline</td>\n",
       "      <td>Carros Custo-Benefício</td>\n",
       "    </tr>\n",
       "    <tr>\n",
       "      <th>247684</th>\n",
       "      <td>Ford</td>\n",
       "      <td>2021</td>\n",
       "      <td>18908.0</td>\n",
       "      <td>23.5</td>\n",
       "      <td>0.0</td>\n",
       "      <td>0.0</td>\n",
       "      <td>0.0</td>\n",
       "      <td>4.8</td>\n",
       "      <td>31.0</td>\n",
       "      <td>34189.0</td>\n",
       "      <td>Automatic</td>\n",
       "      <td>gray</td>\n",
       "      <td>black</td>\n",
       "      <td>RWD</td>\n",
       "      <td>Gasoline</td>\n",
       "      <td>Carros Premium</td>\n",
       "    </tr>\n",
       "  </tbody>\n",
       "</table>\n",
       "</div>"
      ],
      "text/plain": [
       "       manufacturer  year  mileage   mpg  accidents_or_damage  one_owner  \\\n",
       "561046       Nissan  2022   7963.0  19.5                  0.0        1.0   \n",
       "390497         Jeep  2017  65998.0  21.5                  0.0        0.0   \n",
       "13707         Other  2017  50986.0  29.0                  0.0        0.0   \n",
       "576420       Nissan  2018  74244.0  28.5                  0.0        0.0   \n",
       "247684         Ford  2021  18908.0  23.5                  0.0        0.0   \n",
       "\n",
       "        personal_use_only  driver_rating  driver_reviews_num    price  \\\n",
       "561046                1.0            4.2                19.0  35693.0   \n",
       "390497                1.0            4.8               335.0  22999.0   \n",
       "13707                 1.0            4.8                90.0  23900.0   \n",
       "576420                0.0            4.7               417.0  18988.0   \n",
       "247684                0.0            4.8                31.0  34189.0   \n",
       "\n",
       "       transmission_simple color_exterior_simple color_interior_simple  \\\n",
       "561046           Automatic                   red                 black   \n",
       "390497           Automatic                 white                 black   \n",
       "13707               Manual                 black                 black   \n",
       "576420           Automatic                 black                 black   \n",
       "247684           Automatic                  gray                 black   \n",
       "\n",
       "       drivetrain_simple fuel_type_simple                   cluster  \n",
       "561046               4WD         Gasoline  Carros Luxos/Valorizados  \n",
       "390497               4WD         Gasoline    Carros Custo-Benefício  \n",
       "13707                FWD         Gasoline            Carros Premium  \n",
       "576420               AWD         Gasoline    Carros Custo-Benefício  \n",
       "247684               RWD         Gasoline            Carros Premium  "
      ]
     },
     "execution_count": 32,
     "metadata": {},
     "output_type": "execute_result"
    }
   ],
   "source": [
    "train = pd.read_csv(\"../Dados/used_car_train.csv\", index_col=0)\n",
    "test = pd.read_csv(\"../Dados/used_car_test.csv\", index_col = 0)\n",
    "\n",
    "train.head()"
   ]
  },
  {
   "cell_type": "markdown",
   "id": "47edc6e3",
   "metadata": {},
   "source": [
    "Agora com os dados em mãos, dividir em features e em target e depois separar os dados de validação."
   ]
  },
  {
   "cell_type": "code",
   "execution_count": 33,
   "id": "21d4c13f",
   "metadata": {},
   "outputs": [],
   "source": [
    "X_ = train.drop(columns=[\"price\"], axis=1)\n",
    "y_ = train[\"price\"]\n",
    "\n",
    "X_test = test.drop(columns=[\"price\"], axis=1)\n",
    "y_test = test[\"price\"]\n",
    "\n",
    "X_train, X_validacao, y_train, y_validacao = train_test_split(X_, y_, test_size=0.3, stratify=X_[\"cluster\"], random_state=42)\n"
   ]
  },
  {
   "cell_type": "code",
   "execution_count": 4,
   "id": "091b0bc1",
   "metadata": {},
   "outputs": [
    {
     "name": "stdout",
     "output_type": "stream",
     "text": [
      "O dataset de treino apresenta 343511 linhas e 15 colunas\n",
      "O dataset de validação apresenta 147219 linhas e 15 colunas\n",
      "O dataset de teste apresenta 150590 linhas e 15 colunas\n"
     ]
    }
   ],
   "source": [
    "print(f\"O dataset de treino apresenta {X_train.shape[0]} linhas e {X_train.shape[1]} colunas\")\n",
    "print(f\"O dataset de validação apresenta {X_validacao.shape[0]} linhas e {X_validacao.shape[1]} colunas\")\n",
    "print(f\"O dataset de teste apresenta {X_test.shape[0]} linhas e {X_test.shape[1]} colunas\")\n"
   ]
  },
  {
   "cell_type": "code",
   "execution_count": 5,
   "id": "7dc1b2b7",
   "metadata": {},
   "outputs": [
    {
     "name": "stdout",
     "output_type": "stream",
     "text": [
      "O dataset de treino apresenta 343511 linhas\n",
      "O dataset de validação apresenta 147219 linhas\n",
      "O dataset de teste apresenta 150590 linhas\n"
     ]
    }
   ],
   "source": [
    "print(f\"O dataset de treino apresenta {y_train.shape[0]} linhas\")\n",
    "print(f\"O dataset de validação apresenta {y_validacao.shape[0]} linhas\")\n",
    "print(f\"O dataset de teste apresenta {y_test.shape[0]} linhas\")"
   ]
  },
  {
   "cell_type": "markdown",
   "id": "2241f29e",
   "metadata": {},
   "source": [
    "Agora com os dados prontos eu posso começar a criar o pipeline de transformação dos dados para os modelos receberem os dados no formato certo!"
   ]
  },
  {
   "cell_type": "code",
   "execution_count": 6,
   "id": "22dcbee3",
   "metadata": {},
   "outputs": [],
   "source": [
    "\n",
    "colunas_numericas = X_train.select_dtypes(include=\"number\").columns\n",
    "colunas_categoricas = X_train.select_dtypes(include = \"object\").columns\n",
    "\n",
    "#Pipeline de tranformações das features numéricas\n",
    "transformacao_colunas_numericas_mlineares = Pipeline(\n",
    "    steps=[\n",
    "        (\"preencher_num\", SimpleImputer(strategy=\"median\")),\n",
    "       ( \"escalar\", RobustScaler())\n",
    "    ]\n",
    ")\n",
    "transformacao_colunas_numericas_arvores = Pipeline(\n",
    "    steps=[\n",
    "        (\"preencher_num\", SimpleImputer(strategy=\"median\")),\n",
    "    ]\n",
    ")\n",
    "\n",
    "#Pipeline de tranformações das features categoricas\n",
    "transformacao_colunas_categoricas=Pipeline(\n",
    "    steps=[\n",
    "        (\"preencher_cat\", SimpleImputer(strategy=\"most_frequent\")),\n",
    "        (\"variaveis_cat\", ce.TargetEncoder())\n",
    "    ]\n",
    ")\n",
    "\n",
    "\n",
    "#Transformadores das colunas numericas e categoricas\n",
    "processador_linear = ColumnTransformer(\n",
    "    transformers=[\n",
    "        (\"num\", transformacao_colunas_numericas_mlineares, colunas_numericas),\n",
    "        (\"cat\", transformacao_colunas_categoricas, colunas_categoricas)\n",
    "    ]\n",
    ")\n",
    "processador_arvores = ColumnTransformer(\n",
    "    transformers=[\n",
    "        (\"num\", transformacao_colunas_numericas_arvores, colunas_numericas),\n",
    "        (\"cat\", transformacao_colunas_categoricas, colunas_categoricas)\n",
    "    ]\n",
    ")"
   ]
  },
  {
   "cell_type": "markdown",
   "id": "f6ec2845",
   "metadata": {},
   "source": [
    "Com os pipelines feitos irei partir para a avaliação dos modelos baseline"
   ]
  },
  {
   "cell_type": "markdown",
   "id": "45b62254",
   "metadata": {},
   "source": [
    "### **Avaliação dos Modelos Baseline**\n",
    "\n",
    "Nesta etapa irei avaliar os modelos sem nenhum hiperparâmetro, os que se sairem melhores vão ser os modelos base line para passar pelo processo de tunagem do modelo por meio de RandomSearchCV"
   ]
  },
  {
   "cell_type": "code",
   "execution_count": 7,
   "id": "a7bd20f0",
   "metadata": {},
   "outputs": [
    {
     "name": "stdout",
     "output_type": "stream",
     "text": [
      "[LightGBM] [Info] Auto-choosing row-wise multi-threading, the overhead of testing was 0.008482 seconds.\n",
      "You can set `force_row_wise=true` to remove the overhead.\n",
      "And if memory is not enough, you can set `force_col_wise=true`.\n",
      "[LightGBM] [Info] Total Bins 777\n",
      "[LightGBM] [Info] Number of data points in the train set: 343511, number of used features: 15\n",
      "[LightGBM] [Info] Start training from score 29850.664206\n",
      "Decision Tree Regressor: R2=0.695, MSE=142681427.871, RMSE=11944.933, MAE=3754.048\n",
      "XGBoost Regressor: R2=0.807, MSE=89981883.635, RMSE=9485.878, MAE=3595.184\n",
      "LGBM Regressor: R2=0.779, MSE=103085866.330, RMSE=10153.121, MAE=4163.556\n"
     ]
    },
    {
     "name": "stderr",
     "output_type": "stream",
     "text": [
      "c:\\Users\\rianf\\AppData\\Local\\Programs\\Python\\Python312\\Lib\\site-packages\\sklearn\\utils\\validation.py:2739: UserWarning: X does not have valid feature names, but LGBMRegressor was fitted with feature names\n",
      "  warnings.warn(\n"
     ]
    }
   ],
   "source": [
    "modelos_regressao = [\n",
    "    (\"Decision Tree Regressor\", DecisionTreeRegressor(random_state=42)),\n",
    "    (\"XGBoost Regressor\", XGBRegressor(eval_metric='rmse', random_state = 42)),\n",
    "    (\"LGBM Regressor\", LGBMRegressor(random_state=42)),\n",
    "    \n",
    "]\n",
    "\n",
    "\n",
    "# Dicionário para armazenar resultados\n",
    "resultados = {}\n",
    "\n",
    "# Loop para treinar e avaliar cada modelo\n",
    "for nome, modelo in modelos_regressao:\n",
    "    # Pipeline com pré-processamento + modelo\n",
    "    pipe = Pipeline(steps=[\n",
    "        (\"preprocessador\", processador_arvores),\n",
    "        (\"modelo\", modelo)\n",
    "    ])\n",
    "    \n",
    "    # Treinamento\n",
    "    pipe.fit(X_train, y_train)\n",
    "    \n",
    "    # Predição\n",
    "    y_pred = pipe.predict(X_validacao)\n",
    "    \n",
    "    # Cálculo de métricas para regressão\n",
    "    mse = mean_squared_error(y_validacao, y_pred)\n",
    "    rmse = np.sqrt(mse)\n",
    "    mae = mean_absolute_error(y_validacao, y_pred)\n",
    "    r2 = r2_score(y_validacao, y_pred)\n",
    "\n",
    "    resultados[nome] = {\n",
    "        \"R2\": r2,\n",
    "        \"MSE\": mse,\n",
    "        \"RMSE\": rmse,\n",
    "        \"MAE\": mae\n",
    "    }\n",
    "\n",
    "# Mostrar resultados c\n",
    "for nome, metricas in resultados.items():\n",
    "    print(f\"{nome}: R2={metricas['R2']:.3f}, MSE={metricas['MSE']:.3f}, RMSE={metricas['RMSE']:.3f}, MAE={metricas['MAE']:.3f}\")\n",
    "\n"
   ]
  },
  {
   "cell_type": "code",
   "execution_count": null,
   "id": "585ecb55",
   "metadata": {},
   "outputs": [
    {
     "name": "stdout",
     "output_type": "stream",
     "text": [
      "Lasso: R2=0.327, MSE=314256944.323, RMSE=17727.294, MAE=8252.563\n",
      "Ridge: R2=0.327, MSE=314256986.294, RMSE=17727.295, MAE=8252.734\n",
      "Linear Regression: R2=0.327, MSE=314256977.130, RMSE=17727.295, MAE=8252.740\n",
      "Gradient Boosting Regressor: R2=0.544, MSE=212938169.270, RMSE=14592.401, MAE=6310.771\n"
     ]
    }
   ],
   "source": [
    "modelos_regressao = [\n",
    "    (\"Lasso\", Lasso()),\n",
    "    (\"Ridge\", Ridge()),\n",
    "    (\"Linear Regression\", LinearRegression()),\n",
    "    (\"Gradient Boosting Regressor\", GradientBoostingRegressor())\n",
    "]\n",
    "\n",
    "\n",
    "\n",
    "# Dicionário para armazenar resultados\n",
    "resultados = {}\n",
    "\n",
    "# Loop para treinar e avaliar cada modelo\n",
    "for nome, modelo in modelos_regressao:\n",
    "    # Pipeline com pré-processamento + modelo\n",
    "    pipe = Pipeline(steps=[\n",
    "        (\"preprocessador\", processador_linear),\n",
    "        (\"feature_sel\", SelectKBest(score_func=f_regression, k=5)),\n",
    "        (\"modelo\", modelo)\n",
    "    ])\n",
    "    \n",
    "    # Treinamento\n",
    "    pipe.fit(X_train, y_train)\n",
    "    \n",
    "    # Predição\n",
    "    y_pred = pipe.predict(X_validacao)\n",
    "    \n",
    "    # Cálculo de métricas para regressão\n",
    "    mse = mean_squared_error(y_validacao, y_pred)\n",
    "    rmse = np.sqrt(mse)\n",
    "    mae = mean_absolute_error(y_validacao, y_pred)\n",
    "    r2 = r2_score(y_validacao, y_pred)\n",
    "\n",
    "    resultados[nome] = {\n",
    "        \"R2\": r2,\n",
    "        \"MSE\": mse,\n",
    "        \"RMSE\": rmse,\n",
    "        \"MAE\": mae\n",
    "    }\n",
    "\n",
    "# Mostrar resultados c\n",
    "for nome, metricas in resultados.items():\n",
    "    print(f\"{nome}: R2={metricas['R2']:.3f}, MSE={metricas['MSE']:.3f}, RMSE={metricas['RMSE']:.3f}, MAE={metricas['MAE']:.3f}\")\n"
   ]
  },
  {
   "cell_type": "markdown",
   "id": "1ccaab58",
   "metadata": {},
   "source": [
    "Agora que eu tenho os melhores modelos que foram: Decision Tree, XGBoost, LGBM e Gradient Boosting. Irei começar um cross validation em todos eles e ver como eles se saem com não só uma parte dos dados, mas varias partes e depois isso iniciar a tunagem dos hiperparâmetros"
   ]
  },
  {
   "cell_type": "code",
   "execution_count": 9,
   "id": "578eabb7",
   "metadata": {},
   "outputs": [
    {
     "name": "stdout",
     "output_type": "stream",
     "text": [
      "XGBRegressor\n",
      "R2 médio: 0.8454087903934433\n",
      "RMSE médio: 8057.120244263461\n",
      "MAE médio: 3606.534634387435\n",
      "LGBMRegressor\n",
      "R2 médio: 0.8191967016119911\n",
      "RMSE médio: 8716.101938644084\n",
      "MAE médio: 4182.4753751633425\n",
      "DecisionTreeRegressor\n",
      "R2 médio: 0.7335691952280887\n",
      "RMSE médio: 10561.123925218484\n",
      "MAE médio: 3797.9243456831855\n"
     ]
    }
   ],
   "source": [
    "\n",
    "def cross_validation_melhores_modelos(modelo, nome_modelo):\n",
    "    kf = KFold(n_splits=5, shuffle=True, random_state=42)\n",
    "    pipe = Pipeline(steps=[\n",
    "            (\"preprocessador\", processador_linear),\n",
    "            (\"modelo\", modelo)\n",
    "        ])\n",
    "        \n",
    "\n",
    "    scoring = {\n",
    "        \"R2\": \"r2\",\n",
    "        \"MSE\": \"neg_mean_squared_error\",\n",
    "        \"MAE\": \"neg_mean_absolute_error\"\n",
    "    }\n",
    "\n",
    "    scores = cross_validate(pipe, X_train, y_train, cv=kf, scoring=scoring, n_jobs=-1)\n",
    "\n",
    "    print(nome_modelo)\n",
    "    print(\"R2 médio:\", np.mean(scores[\"test_R2\"]))\n",
    "    print(\"RMSE médio:\", np.sqrt(-np.mean(scores[\"test_MSE\"])))\n",
    "    print(\"MAE médio:\", -np.mean(scores[\"test_MAE\"]))\n",
    "\n",
    "cross_validation_melhores_modelos(XGBRegressor(), \"XGBRegressor\")\n",
    "cross_validation_melhores_modelos(LGBMRegressor(), \"LGBMRegressor\")\n",
    "cross_validation_melhores_modelos(DecisionTreeRegressor(), \"DecisionTreeRegressor\")"
   ]
  },
  {
   "cell_type": "markdown",
   "id": "4a57bcc9",
   "metadata": {},
   "source": [
    "Aqui mostra que os modelos realmente se manteram com os mesmos resultados, o que indica que eles não se sairam só bem em um conjunto especifico mas sim em um conjunto geral. Agora fazer a tunagem dos hiperparâmetros e após isso ver qual modelo se saiu melhor."
   ]
  },
  {
   "cell_type": "code",
   "execution_count": 10,
   "id": "2e571ec1",
   "metadata": {},
   "outputs": [],
   "source": [
    "\n",
    "def otimizar_modelo_regressao(modelo, pipe_preprocessador, param_distributions, cv=3, n_iter=20, scoring=\"neg_root_mean_squared_error\", verbose=2, random_state=42):\n",
    "    \n",
    "    # Criar pipeline\n",
    "    pipe = Pipeline(steps=[\n",
    "        (\"preprocessador\", pipe_preprocessador),\n",
    "        (\"modelo\", modelo)\n",
    "    ])\n",
    "    \n",
    "    # RandomizedSearchCV\n",
    "    search = RandomizedSearchCV(\n",
    "        estimator=pipe,\n",
    "        param_distributions=param_distributions,\n",
    "        n_iter=n_iter,\n",
    "        cv=cv,\n",
    "        scoring=scoring,\n",
    "        n_jobs=-1,\n",
    "        verbose=verbose,\n",
    "        random_state=random_state\n",
    "    )\n",
    "    \n",
    "    # Treinar\n",
    "    search.fit(X_train, y_train)\n",
    "    \n",
    "    # Resultados\n",
    "    best_rmse = -search.best_score_\n",
    "    print(f\"Melhores parâmetros para {modelo.__class__.__name__}: {search.best_params_}\")\n",
    "    print(f\"Melhor RMSE: {best_rmse:.3f}\\n\")\n",
    "    \n",
    "    # Retorna o melhor modelo ajustado\n",
    "    return search.best_estimator_\n"
   ]
  },
  {
   "cell_type": "code",
   "execution_count": 11,
   "id": "1ddf53f5",
   "metadata": {},
   "outputs": [
    {
     "name": "stdout",
     "output_type": "stream",
     "text": [
      "Fitting 3 folds for each of 20 candidates, totalling 60 fits\n",
      "Melhores parâmetros para DecisionTreeRegressor: {'modelo__min_samples_split': 10, 'modelo__min_samples_leaf': 2, 'modelo__max_depth': None}\n",
      "Melhor RMSE: 9611.789\n",
      "\n"
     ]
    }
   ],
   "source": [
    "#Decision Tree\n",
    "param_dt = {\n",
    "    \"modelo__max_depth\": [3, 5, 7, 10, None],\n",
    "    \"modelo__min_samples_split\": [2, 5, 10],\n",
    "    \"modelo__min_samples_leaf\": [1, 2, 4]\n",
    "}\n",
    "\n",
    "\n",
    "melhor_decision_tree = otimizar_modelo_regressao(DecisionTreeRegressor(), processador_arvores, param_dt)"
   ]
  },
  {
   "cell_type": "code",
   "execution_count": 12,
   "id": "1531fbb2",
   "metadata": {},
   "outputs": [
    {
     "name": "stdout",
     "output_type": "stream",
     "text": [
      "Fitting 3 folds for each of 20 candidates, totalling 60 fits\n",
      "[LightGBM] [Info] Auto-choosing row-wise multi-threading, the overhead of testing was 0.009970 seconds.\n",
      "You can set `force_row_wise=true` to remove the overhead.\n",
      "And if memory is not enough, you can set `force_col_wise=true`.\n",
      "[LightGBM] [Info] Total Bins 770\n",
      "[LightGBM] [Info] Number of data points in the train set: 343511, number of used features: 15\n",
      "[LightGBM] [Info] Start training from score 29850.664206\n",
      "Melhores parâmetros para LGBMRegressor: {'modelo__subsample': 0.8, 'modelo__num_leaves': 31, 'modelo__n_estimators': 200, 'modelo__max_depth': -1, 'modelo__learning_rate': 0.1, 'modelo__colsample_bytree': 1.0}\n",
      "Melhor RMSE: 8253.046\n",
      "\n"
     ]
    }
   ],
   "source": [
    "#LGBM\n",
    "param_lgbm = {\n",
    "    \"modelo__n_estimators\": [50, 100, 200],\n",
    "    \"modelo__max_depth\": [3, 5, 7, -1],\n",
    "    \"modelo__learning_rate\": [0.01, 0.05, 0.1],\n",
    "    \"modelo__num_leaves\": [20, 31, 50],\n",
    "    \"modelo__subsample\": [0.6, 0.8, 1.0],\n",
    "    \"modelo__colsample_bytree\": [0.6, 0.8, 1.0]\n",
    "}\n",
    "\n",
    "\n",
    "melhor_lgbm = otimizar_modelo_regressao(LGBMRegressor(), processador_arvores, param_lgbm)"
   ]
  },
  {
   "cell_type": "code",
   "execution_count": 13,
   "id": "4b2b2758",
   "metadata": {},
   "outputs": [
    {
     "name": "stdout",
     "output_type": "stream",
     "text": [
      "Fitting 3 folds for each of 20 candidates, totalling 60 fits\n",
      "Melhores parâmetros para XGBRegressor: {'modelo__subsample': 1.0, 'modelo__n_estimators': 200, 'modelo__max_depth': 7, 'modelo__learning_rate': 0.1, 'modelo__colsample_bytree': 0.8}\n",
      "Melhor RMSE: 7701.915\n",
      "\n"
     ]
    }
   ],
   "source": [
    "#XGBoost\n",
    "param_xgb = {\n",
    "    \"modelo__n_estimators\": [50, 100, 200],\n",
    "    \"modelo__max_depth\": [3, 5, 7],\n",
    "    \"modelo__learning_rate\": [0.01, 0.05, 0.1],\n",
    "    \"modelo__subsample\": [0.6, 0.8, 1.0],\n",
    "    \"modelo__colsample_bytree\": [0.6, 0.8, 1.0]\n",
    "}\n",
    "\n",
    "\n",
    "melhor_xgb = otimizar_modelo_regressao(XGBRegressor(), processador_arvores, param_xgb)"
   ]
  },
  {
   "cell_type": "markdown",
   "id": "9c907b08",
   "metadata": {},
   "source": [
    "\n",
    "Observamos uma **melhora significativa no RMSE** após o ajuste dos modelos:\n",
    "\n",
    "* **Decision Tree Regressor:** o RMSE passou de **10.748,36** para **9.593,88**\n",
    "* **XGBoost Regressor:** o RMSE reduziu de **8.057,12** para **7.701,92**\n",
    "* **LGBM Regressor:** o RMSE caiu de **8.716,10** para **8.253,05**\n",
    "\n",
    "Esses resultados mostram que a **otimização dos hiperparâmetros** teve um impacto positivo na performance de todos os modelos. Apartir daqui irei utilizar o XGBoost pois trouce o melhor desempenho\n",
    "\n"
   ]
  },
  {
   "cell_type": "code",
   "execution_count": 37,
   "id": "3d7f62df",
   "metadata": {},
   "outputs": [],
   "source": [
    "def avaliacao_final(modelo, X_test, y_test):\n",
    "    y_pred = modelo.predict(X_test)\n",
    "    # Dicionário para armazenar resultados\n",
    "    resultados = {}\n",
    "    # Cálculo de métricas para regressão\n",
    "    mse = mean_squared_error(y_test, y_pred)\n",
    "    rmse = np.sqrt(mse)\n",
    "    mae = mean_absolute_error(y_test, y_pred)\n",
    "    r2 = r2_score(y_test, y_pred)\n",
    "\n",
    "    resultados[\"XGBoost\"] = {\n",
    "            \"R2\": r2,\n",
    "            \"MSE\": mse,\n",
    "            \"RMSE\": rmse,\n",
    "            \"MAE\": mae\n",
    "        }\n",
    "\n",
    "    # Mostrar resultados c\n",
    "    for nome, metricas in resultados.items():\n",
    "        print(f\"{nome}: R2={metricas['R2']:.3f}, MSE={metricas['MSE']:.3f}, RMSE={metricas['RMSE']:.3f}, MAE={metricas['MAE']:.3f}\")"
   ]
  },
  {
   "cell_type": "code",
   "execution_count": 38,
   "id": "7cf03074",
   "metadata": {},
   "outputs": [
    {
     "name": "stdout",
     "output_type": "stream",
     "text": [
      "XGBoost: R2=0.000, MSE=6640633982607.661, RMSE=2576942.759, MAE=14959.120\n"
     ]
    }
   ],
   "source": [
    "avaliacao_final(melhor_xgb, X_test, y_test)"
   ]
  },
  {
   "cell_type": "markdown",
   "id": "05090f61",
   "metadata": {},
   "source": [
    "Os resultdos foram pessímos nos dados de teste, irei análisar se foi por algum outlier expressivo ou porque o modelo realmente não está se comportando bem com os dados de teste"
   ]
  },
  {
   "cell_type": "code",
   "execution_count": null,
   "id": "939301de",
   "metadata": {},
   "outputs": [
    {
     "data": {
      "text/plain": [
       "<Axes: ylabel='price'>"
      ]
     },
     "execution_count": 39,
     "metadata": {},
     "output_type": "execute_result"
    },
    {
     "data": {
      "image/png": "[encoded data removed]",
      "text/plain": [
       "<Figure size 640x480 with 1 Axes>"
      ]
     },
     "metadata": {},
     "output_type": "display_data"
    }
   ],
   "source": [
    "sns.scatterplot(x=y_pred, y=y_test)"
   ]
  },
  {
   "cell_type": "markdown",
   "id": "712c70cc",
   "metadata": {},
   "source": [
    "Identifiquei o problema: os dados de teste continham um outlier extremamente alto, de 1 bilhão, que não tratamos por boas práticas. Esse valor distorceu o resultado final. Irei removê-lo para avaliar como o modelo se comporta com os dados sem esse outlier, que dificilmente ocorreria em uma situação real."
   ]
  },
  {
   "cell_type": "code",
   "execution_count": 40,
   "id": "f55c8ccb",
   "metadata": {},
   "outputs": [
    {
     "name": "stdout",
     "output_type": "stream",
     "text": [
      "XGBoost: R2=0.421, MSE=352521478.973, RMSE=18775.555, MAE=8318.761\n"
     ]
    }
   ],
   "source": [
    "test=test[test[\"price\"]<1000000000]\n",
    "X_test = test.drop(columns=[\"price\"], axis=1)\n",
    "y_test = test[\"price\"]\n",
    "avaliacao_final(melhor_xgb, X_test, y_test)\n"
   ]
  },
  {
   "cell_type": "markdown",
   "id": "ba0e8d73",
   "metadata": {},
   "source": [
    "\n",
    "\n",
    "Na avaliação do modelo XGBoost, obtivemos os seguintes resultados no conjunto de teste: **R² = 0.421**, **MSE = 352.521.479**, **RMSE = 18.775,56** e **MAE = 8.318,76**. Esses valores indicam que o modelo consegue explicar cerca de 42% da variabilidade dos preços dos veículos, mostrando um desempenho moderado, mas ainda útil para estimativas e análises exploratórias de precificação.\n",
    "\n",
    "Observou-se que o conjunto de teste continha um outlier extremamente elevado (1 bilhão), que não foi removido deliberadamente por boas práticas. Em situações reais, não é esperado que valores tão discrepantes ocorram; portanto, não é recomendada a remoção de outliers do conjunto de teste, pois isso poderia introduzir viés e sobreajuste ao modelo. Esse outlier impactou fortemente as métricas de erro, especialmente o RMSE, inflando o valor médio de erro quadrático.\n",
    "\n",
    "Mesmo considerando esse ponto, o modelo apresenta **capacidade de captura de padrões relevantes**, refletida em erros médios (MAE) de aproximadamente 8.300, o que sugere que, para a maioria dos casos reais, o modelo fornece previsões consistentes e dentro de uma margem de erro aceitável. Para aplicações futuras, recomenda-se monitorar a presença de outliers e, se necessário, criar estratégias específicas para lidar com valores extremos sem comprometer a generalização do modelo.\n",
    "\n",
    "Em resumo, o XGBoost se mostra robusto e apto para ser utilizado como ferramenta de previsão de preços, mas deve-se ter atenção especial a valores extremamente atípicos que não representem cenários reais.\n",
    "\n"
   ]
  }
 ],
 "metadata": {
  "kernelspec": {
   "display_name": "Python 3",
   "language": "python",
   "name": "python3"
  },
  "language_info": {
   "codemirror_mode": {
    "name": "ipython",
    "version": 3
   },
   "file_extension": ".py",
   "mimetype": "text/x-python",
   "name": "python",
   "nbconvert_exporter": "python",
   "pygments_lexer": "ipython3",
   "version": "3.12.6"
  }
 },
 "nbformat": 4,
 "nbformat_minor": 5
}
